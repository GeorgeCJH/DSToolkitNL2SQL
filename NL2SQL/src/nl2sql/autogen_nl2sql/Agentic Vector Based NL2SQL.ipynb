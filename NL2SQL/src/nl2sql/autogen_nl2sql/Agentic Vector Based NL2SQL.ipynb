{
  "cells": [
    {
      "cell_type": "markdown",
      "metadata": {},
      "source": [
        "Copyright (c) Microsoft Corporation.\n",
        "\n",
        "Licensed under the MIT License."
      ]
    },
    {
      "cell_type": "code",
      "execution_count": null,
      "metadata": {},
      "outputs": [],
      "source": [
        "# This is only needed for this notebook to work\n",
        "import sys\n",
        "from pathlib import Path\n",
        "\n",
        "# Add the parent directory of `src` to the path\n",
        "sys.path.append(str(Path.cwd() / \"src\"))"
      ]
    },
    {
      "cell_type": "markdown",
      "metadata": {},
      "source": [
        "# Text2SQL with AutoGen & Azure OpenAI\n",
        "\n",
        "This notebook demonstrates how the AutoGen Agents can be integrated with Azure OpenAI to answer questions from the database based on the schemas provided. \n",
        "\n",
        "A multi-shot approach is used for SQL generation for more reliable results and reduced token usage. More details can be found in the README.md.\n",
        "\n",
        "### Dependencies\n",
        "\n",
        "To install dependencies for this demo. Navigate to the autogen directory:\n",
        "\n",
        "`uv sync`\n",
        "\n",
        "If you need a differnet connector to TSQL.\n",
        "\n",
        "`uv sync --extra <DATABASE ENGINE>`"
      ]
    },
    {
      "cell_type": "code",
      "execution_count": 1,
      "metadata": {},
      "outputs": [],
      "source": [
        "import dotenv\n",
        "import logging\n",
        "from autogen_text_2_sql import AutoGenText2Sql, UserMessagePayload\n",
        "from autogen_text_2_sql.state_store import InMemoryStateStore"
      ]
    },
    {
      "cell_type": "code",
      "execution_count": 2,
      "metadata": {},
      "outputs": [],
      "source": [
        "logging.basicConfig(level=logging.INFO)"
      ]
    },
    {
      "cell_type": "code",
      "execution_count": 3,
      "metadata": {},
      "outputs": [
        {
          "data": {
            "text/plain": [
              "True"
            ]
          },
          "execution_count": 3,
          "metadata": {},
          "output_type": "execute_result"
        }
      ],
      "source": [
        "dotenv.load_dotenv()"
      ]
    },
    {
      "cell_type": "markdown",
      "metadata": {},
      "source": [
        "## Bot setup"
      ]
    },
    {
      "cell_type": "code",
      "execution_count": 4,
      "metadata": {},
      "outputs": [],
      "source": [
        "# The state store allows AutoGen to store the states in memory across invocation. Whilst not neccessary, you can replace it with your own implementation that is backed by a database or file system. \n",
        "agentic_text_2_sql = AutoGenText2Sql(state_store=InMemoryStateStore(), use_case=\"query Rubicon product data\")"
      ]
    },
    {
      "cell_type": "markdown",
      "metadata": {},
      "source": [
        "### Generated Queries"
      ]
    },
    {
      "cell_type": "code",
      "execution_count": 5,
      "metadata": {},
      "outputs": [
        {
          "name": "stderr",
          "output_type": "stream",
          "text": [
            "INFO:root:Processing message: how many products are in the catalog?\n",
            "INFO:root:Engine specific fields pulled from in-built: \n",
            "INFO:azure.identity._credentials.environment:No environment configuration found.\n",
            "INFO:azure.identity._credentials.managed_identity:ManagedIdentityCredential will use IMDS\n",
            "INFO:root:Engine specific fields pulled from in-built: \n",
            "INFO:azure.identity._credentials.environment:No environment configuration found.\n",
            "INFO:azure.identity._credentials.managed_identity:ManagedIdentityCredential will use IMDS\n",
            "INFO:azure.identity._credentials.environment:No environment configuration found.\n",
            "INFO:azure.identity._credentials.managed_identity:ManagedIdentityCredential will use IMDS\n",
            "INFO:autogen_core.events:{\"payload\": \"{\\\"messages\\\":[{\\\"source\\\":\\\"user\\\",\\\"models_usage\\\":null,\\\"content\\\":\\\"{\\\\\\\"message\\\\\\\": \\\\\\\"how many products are in the catalog?\\\\\\\", \\\\\\\"injected_parameters\\\\\\\": {\\\\\\\"date\\\\\\\": \\\\\\\"16/10/2025\\\\\\\", \\\\\\\"time\\\\\\\": \\\\\\\"05:53:01\\\\\\\", \\\\\\\"datetime\\\\\\\": \\\\\\\"16/10/2025, 05:53:01\\\\\\\", \\\\\\\"unix_timestamp\\\\\\\": 1760593981}}\\\",\\\"type\\\":\\\"TextMessage\\\"}]}\", \"sender\": null, \"receiver\": \"group_chat_manager/8c6a6019-aa6b-4a89-bc30-1faf796809d8\", \"kind\": \"MessageKind.DIRECT\", \"delivery_stage\": \"DeliveryStage.SEND\", \"type\": \"Message\"}\n",
            "INFO:autogen_core:Sending message of type GroupChatStart to group_chat_manager: {'messages': [TextMessage(source='user', models_usage=None, content='{\"message\": \"how many products are in the catalog?\", \"injected_parameters\": {\"date\": \"16/10/2025\", \"time\": \"05:53:01\", \"datetime\": \"16/10/2025, 05:53:01\", \"unix_timestamp\": 1760593981}}', type='TextMessage')]}\n",
            "INFO:autogen_core:Calling message handler for group_chat_manager/8c6a6019-aa6b-4a89-bc30-1faf796809d8 with message type GroupChatStart sent by Unknown\n",
            "INFO:autogen_core.events:{\"payload\": \"{\\\"messages\\\":[{\\\"source\\\":\\\"user\\\",\\\"models_usage\\\":null,\\\"content\\\":\\\"{\\\\\\\"message\\\\\\\": \\\\\\\"how many products are in the catalog?\\\\\\\", \\\\\\\"injected_parameters\\\\\\\": {\\\\\\\"date\\\\\\\": \\\\\\\"16/10/2025\\\\\\\", \\\\\\\"time\\\\\\\": \\\\\\\"05:53:01\\\\\\\", \\\\\\\"datetime\\\\\\\": \\\\\\\"16/10/2025, 05:53:01\\\\\\\", \\\\\\\"unix_timestamp\\\\\\\": 1760593981}}\\\",\\\"type\\\":\\\"TextMessage\\\"}]}\", \"sender\": null, \"receiver\": \"group_chat_manager/8c6a6019-aa6b-4a89-bc30-1faf796809d8\", \"kind\": \"MessageKind.DIRECT\", \"delivery_stage\": \"DeliveryStage.DELIVER\", \"type\": \"Message\"}\n",
            "INFO:autogen_core:Publishing message of type GroupChatStart to all subscribers: {'messages': [TextMessage(source='user', models_usage=None, content='{\"message\": \"how many products are in the catalog?\", \"injected_parameters\": {\"date\": \"16/10/2025\", \"time\": \"05:53:01\", \"datetime\": \"16/10/2025, 05:53:01\", \"unix_timestamp\": 1760593981}}', type='TextMessage')]}\n",
            "INFO:autogen_core.events:{\"payload\": \"{\\\"messages\\\":[{\\\"source\\\":\\\"user\\\",\\\"models_usage\\\":null,\\\"content\\\":\\\"{\\\\\\\"message\\\\\\\": \\\\\\\"how many products are in the catalog?\\\\\\\", \\\\\\\"injected_parameters\\\\\\\": {\\\\\\\"date\\\\\\\": \\\\\\\"16/10/2025\\\\\\\", \\\\\\\"time\\\\\\\": \\\\\\\"05:53:01\\\\\\\", \\\\\\\"datetime\\\\\\\": \\\\\\\"16/10/2025, 05:53:01\\\\\\\", \\\\\\\"unix_timestamp\\\\\\\": 1760593981}}\\\",\\\"type\\\":\\\"TextMessage\\\"}]}\", \"sender\": \"group_chat_manager/8c6a6019-aa6b-4a89-bc30-1faf796809d8\", \"receiver\": \"output_topic/8c6a6019-aa6b-4a89-bc30-1faf796809d8\", \"kind\": \"MessageKind.PUBLISH\", \"delivery_stage\": \"DeliveryStage.SEND\", \"type\": \"Message\"}\n",
            "INFO:autogen_core:Publishing message of type GroupChatStart to all subscribers: {'messages': [TextMessage(source='user', models_usage=None, content='{\"message\": \"how many products are in the catalog?\", \"injected_parameters\": {\"date\": \"16/10/2025\", \"time\": \"05:53:01\", \"datetime\": \"16/10/2025, 05:53:01\", \"unix_timestamp\": 1760593981}}', type='TextMessage')]}\n",
            "INFO:autogen_core.events:{\"payload\": \"{\\\"messages\\\":[{\\\"source\\\":\\\"user\\\",\\\"models_usage\\\":null,\\\"content\\\":\\\"{\\\\\\\"message\\\\\\\": \\\\\\\"how many products are in the catalog?\\\\\\\", \\\\\\\"injected_parameters\\\\\\\": {\\\\\\\"date\\\\\\\": \\\\\\\"16/10/2025\\\\\\\", \\\\\\\"time\\\\\\\": \\\\\\\"05:53:01\\\\\\\", \\\\\\\"datetime\\\\\\\": \\\\\\\"16/10/2025, 05:53:01\\\\\\\", \\\\\\\"unix_timestamp\\\\\\\": 1760593981}}\\\",\\\"type\\\":\\\"TextMessage\\\"}]}\", \"sender\": \"group_chat_manager/8c6a6019-aa6b-4a89-bc30-1faf796809d8\", \"receiver\": \"group_topic/8c6a6019-aa6b-4a89-bc30-1faf796809d8\", \"kind\": \"MessageKind.PUBLISH\", \"delivery_stage\": \"DeliveryStage.SEND\", \"type\": \"Message\"}\n",
            "INFO:autogen_core:Calling message handler for collect_output_messages with message type GroupChatStart published by group_chat_manager/8c6a6019-aa6b-4a89-bc30-1faf796809d8\n",
            "INFO:autogen_core.events:{\"payload\": \"{\\\"messages\\\":[{\\\"source\\\":\\\"user\\\",\\\"models_usage\\\":null,\\\"content\\\":\\\"{\\\\\\\"message\\\\\\\": \\\\\\\"how many products are in the catalog?\\\\\\\", \\\\\\\"injected_parameters\\\\\\\": {\\\\\\\"date\\\\\\\": \\\\\\\"16/10/2025\\\\\\\", \\\\\\\"time\\\\\\\": \\\\\\\"05:53:01\\\\\\\", \\\\\\\"datetime\\\\\\\": \\\\\\\"16/10/2025, 05:53:01\\\\\\\", \\\\\\\"unix_timestamp\\\\\\\": 1760593981}}\\\",\\\"type\\\":\\\"TextMessage\\\"}]}\", \"sender\": \"group_chat_manager/8c6a6019-aa6b-4a89-bc30-1faf796809d8\", \"receiver\": null, \"kind\": \"MessageKind.PUBLISH\", \"delivery_stage\": \"DeliveryStage.DELIVER\", \"type\": \"Message\"}\n",
            "INFO:autogen_agentchat.events:source='user' models_usage=None content='{\"message\": \"how many products are in the catalog?\", \"injected_parameters\": {\"date\": \"16/10/2025\", \"time\": \"05:53:01\", \"datetime\": \"16/10/2025, 05:53:01\", \"unix_timestamp\": 1760593981}}' type='TextMessage'\n",
            "INFO:autogen_core:Calling message handler for user_message_rewrite_agent with message type GroupChatStart published by group_chat_manager/8c6a6019-aa6b-4a89-bc30-1faf796809d8\n",
            "INFO:autogen_core.events:{\"payload\": \"{\\\"messages\\\":[{\\\"source\\\":\\\"user\\\",\\\"models_usage\\\":null,\\\"content\\\":\\\"{\\\\\\\"message\\\\\\\": \\\\\\\"how many products are in the catalog?\\\\\\\", \\\\\\\"injected_parameters\\\\\\\": {\\\\\\\"date\\\\\\\": \\\\\\\"16/10/2025\\\\\\\", \\\\\\\"time\\\\\\\": \\\\\\\"05:53:01\\\\\\\", \\\\\\\"datetime\\\\\\\": \\\\\\\"16/10/2025, 05:53:01\\\\\\\", \\\\\\\"unix_timestamp\\\\\\\": 1760593981}}\\\",\\\"type\\\":\\\"TextMessage\\\"}]}\", \"sender\": \"group_chat_manager/8c6a6019-aa6b-4a89-bc30-1faf796809d8\", \"receiver\": null, \"kind\": \"MessageKind.PUBLISH\", \"delivery_stage\": \"DeliveryStage.DELIVER\", \"type\": \"Message\"}\n",
            "INFO:autogen_core:Calling message handler for parallel_query_solving_agent with message type GroupChatStart published by group_chat_manager/8c6a6019-aa6b-4a89-bc30-1faf796809d8\n",
            "INFO:autogen_core.events:{\"payload\": \"{\\\"messages\\\":[{\\\"source\\\":\\\"user\\\",\\\"models_usage\\\":null,\\\"content\\\":\\\"{\\\\\\\"message\\\\\\\": \\\\\\\"how many products are in the catalog?\\\\\\\", \\\\\\\"injected_parameters\\\\\\\": {\\\\\\\"date\\\\\\\": \\\\\\\"16/10/2025\\\\\\\", \\\\\\\"time\\\\\\\": \\\\\\\"05:53:01\\\\\\\", \\\\\\\"datetime\\\\\\\": \\\\\\\"16/10/2025, 05:53:01\\\\\\\", \\\\\\\"unix_timestamp\\\\\\\": 1760593981}}\\\",\\\"type\\\":\\\"TextMessage\\\"}]}\", \"sender\": \"group_chat_manager/8c6a6019-aa6b-4a89-bc30-1faf796809d8\", \"receiver\": null, \"kind\": \"MessageKind.PUBLISH\", \"delivery_stage\": \"DeliveryStage.DELIVER\", \"type\": \"Message\"}\n",
            "INFO:autogen_core:Calling message handler for answer_with_follow_up_suggestions_agent with message type GroupChatStart published by group_chat_manager/8c6a6019-aa6b-4a89-bc30-1faf796809d8\n",
            "INFO:autogen_core.events:{\"payload\": \"{\\\"messages\\\":[{\\\"source\\\":\\\"user\\\",\\\"models_usage\\\":null,\\\"content\\\":\\\"{\\\\\\\"message\\\\\\\": \\\\\\\"how many products are in the catalog?\\\\\\\", \\\\\\\"injected_parameters\\\\\\\": {\\\\\\\"date\\\\\\\": \\\\\\\"16/10/2025\\\\\\\", \\\\\\\"time\\\\\\\": \\\\\\\"05:53:01\\\\\\\", \\\\\\\"datetime\\\\\\\": \\\\\\\"16/10/2025, 05:53:01\\\\\\\", \\\\\\\"unix_timestamp\\\\\\\": 1760593981}}\\\",\\\"type\\\":\\\"TextMessage\\\"}]}\", \"sender\": \"group_chat_manager/8c6a6019-aa6b-4a89-bc30-1faf796809d8\", \"receiver\": null, \"kind\": \"MessageKind.PUBLISH\", \"delivery_stage\": \"DeliveryStage.DELIVER\", \"type\": \"Message\"}\n",
            "INFO:root:Messages: [TextMessage(source='user', models_usage=None, content='{\"message\": \"how many products are in the catalog?\", \"injected_parameters\": {\"date\": \"16/10/2025\", \"time\": \"05:53:01\", \"datetime\": \"16/10/2025, 05:53:01\", \"unix_timestamp\": 1760593981}}', type='TextMessage')]\n",
            "INFO:root:Agent transition: user -> user_message_rewrite_agent\n",
            "INFO:autogen_core:Publishing message of type GroupChatRequestPublish to all subscribers: {}\n",
            "INFO:autogen_core.events:{\"payload\": \"{}\", \"sender\": \"group_chat_manager/8c6a6019-aa6b-4a89-bc30-1faf796809d8\", \"receiver\": \"user_message_rewrite_agent/8c6a6019-aa6b-4a89-bc30-1faf796809d8\", \"kind\": \"MessageKind.PUBLISH\", \"delivery_stage\": \"DeliveryStage.SEND\", \"type\": \"Message\"}\n",
            "INFO:autogen_core.events:{\"payload\": \"Message could not be serialized\", \"sender\": \"group_chat_manager/8c6a6019-aa6b-4a89-bc30-1faf796809d8\", \"receiver\": null, \"kind\": \"MessageKind.RESPOND\", \"delivery_stage\": \"DeliveryStage.SEND\", \"type\": \"Message\"}\n",
            "INFO:autogen_core:Calling message handler for user_message_rewrite_agent with message type GroupChatRequestPublish published by group_chat_manager/8c6a6019-aa6b-4a89-bc30-1faf796809d8\n",
            "INFO:autogen_core.events:{\"payload\": \"{}\", \"sender\": \"group_chat_manager/8c6a6019-aa6b-4a89-bc30-1faf796809d8\", \"receiver\": null, \"kind\": \"MessageKind.PUBLISH\", \"delivery_stage\": \"DeliveryStage.DELIVER\", \"type\": \"Message\"}\n",
            "INFO:autogen_core:Resolving response with message type NoneType for recipient None from group_chat_manager: None\n",
            "INFO:autogen_core.events:{\"payload\": \"Message could not be serialized\", \"sender\": \"group_chat_manager/8c6a6019-aa6b-4a89-bc30-1faf796809d8\", \"receiver\": null, \"kind\": \"MessageKind.RESPOND\", \"delivery_stage\": \"DeliveryStage.DELIVER\", \"type\": \"Message\"}\n",
            "INFO:azure.core.pipeline.policies.http_logging_policy:Request URL: 'http://169.254.169.254/metadata/identity/oauth2/token?api-version=REDACTED&resource=REDACTED'\n",
            "Request method: 'GET'\n",
            "Request headers:\n",
            "    'User-Agent': 'azsdk-python-identity/1.20.0 Python/3.11.9 (Windows-10-10.0.26100-SP0)'\n",
            "No body was attached to the request\n",
            "INFO:azure.core.pipeline.policies.http_logging_policy:Response status: 400\n",
            "Response headers:\n",
            "    'Content-Type': 'application/json; charset=utf-8'\n",
            "    'Server': 'IMDS/150.870.65.1854'\n",
            "    'x-ms-request-id': 'c757156e-0e47-42bc-a21f-441c405b35f4'\n",
            "    'Date': 'Thu, 16 Oct 2025 05:56:03 GMT'\n",
            "    'Content-Length': '88'\n",
            "INFO:azure.core.pipeline.policies.http_logging_policy:Request URL: 'http://169.254.169.254/metadata/identity/oauth2/token?api-version=REDACTED&resource=REDACTED'\n",
            "Request method: 'GET'\n",
            "Request headers:\n",
            "    'Metadata': 'REDACTED'\n",
            "    'User-Agent': 'azsdk-python-identity/1.20.0 Python/3.11.9 (Windows-10-10.0.26100-SP0)'\n",
            "No body was attached to the request\n",
            "INFO:azure.core.pipeline.policies.http_logging_policy:Response status: 200\n",
            "Response headers:\n",
            "    'Content-Type': 'application/json; charset=utf-8'\n",
            "    'Server': 'IMDS/150.870.65.1854'\n",
            "    'x-ms-request-id': '6ca69b90-79bd-4f07-b3f5-d87c7677d291'\n",
            "    'Date': 'Thu, 16 Oct 2025 05:56:03 GMT'\n",
            "    'Content-Length': '1946'\n",
            "INFO:azure.identity._credentials.chained:DefaultAzureCredential acquired a token from ManagedIdentityCredential\n",
            "INFO:httpx:HTTP Request: POST https://gc-aoai-wu.openai.azure.com/openai/deployments/gpt-o4-mini-wu-aoai/chat/completions?api-version=2024-07-18 \"HTTP/1.1 404 Resource Not Found\"\n",
            "ERROR:autogen_core:Error processing publish message for user_message_rewrite_agent/8c6a6019-aa6b-4a89-bc30-1faf796809d8\n",
            "Traceback (most recent call last):\n",
            "  File \"c:\\MyDocs\\AppProjects\\DSNL2SQL\\dstoolkit-text2sql-and-imageprocessing\\.venv\\Lib\\site-packages\\autogen_core\\_single_threaded_agent_runtime.py\", line 505, in _on_message\n",
            "    return await agent.on_message(\n",
            "           ^^^^^^^^^^^^^^^^^^^^^^^\n",
            "  File \"c:\\MyDocs\\AppProjects\\DSNL2SQL\\dstoolkit-text2sql-and-imageprocessing\\.venv\\Lib\\site-packages\\autogen_core\\_base_agent.py\", line 113, in on_message\n",
            "    return await self.on_message_impl(message, ctx)\n",
            "           ^^^^^^^^^^^^^^^^^^^^^^^^^^^^^^^^^^^^^^^^\n",
            "  File \"c:\\MyDocs\\AppProjects\\DSNL2SQL\\dstoolkit-text2sql-and-imageprocessing\\.venv\\Lib\\site-packages\\autogen_agentchat\\teams\\_group_chat\\_sequential_routed_agent.py\", line 48, in on_message_impl\n",
            "    return await super().on_message_impl(message, ctx)\n",
            "           ^^^^^^^^^^^^^^^^^^^^^^^^^^^^^^^^^^^^^^^^^^^\n",
            "  File \"c:\\MyDocs\\AppProjects\\DSNL2SQL\\dstoolkit-text2sql-and-imageprocessing\\.venv\\Lib\\site-packages\\autogen_core\\_routed_agent.py\", line 485, in on_message_impl\n",
            "    return await h(self, message, ctx)\n",
            "           ^^^^^^^^^^^^^^^^^^^^^^^^^^^\n",
            "  File \"c:\\MyDocs\\AppProjects\\DSNL2SQL\\dstoolkit-text2sql-and-imageprocessing\\.venv\\Lib\\site-packages\\autogen_core\\_routed_agent.py\", line 268, in wrapper\n",
            "    return_value = await func(self, message, ctx)  # type: ignore\n",
            "                   ^^^^^^^^^^^^^^^^^^^^^^^^^^^^^^\n",
            "  File \"c:\\MyDocs\\AppProjects\\DSNL2SQL\\dstoolkit-text2sql-and-imageprocessing\\.venv\\Lib\\site-packages\\autogen_agentchat\\teams\\_group_chat\\_chat_agent_container.py\", line 53, in handle_request\n",
            "    async for msg in self._agent.on_messages_stream(self._message_buffer, ctx.cancellation_token):\n",
            "  File \"c:\\MyDocs\\AppProjects\\DSNL2SQL\\dstoolkit-text2sql-and-imageprocessing\\.venv\\Lib\\site-packages\\autogen_agentchat\\agents\\_assistant_agent.py\", line 416, in on_messages_stream\n",
            "    model_result = await self._model_client.create(\n",
            "                   ^^^^^^^^^^^^^^^^^^^^^^^^^^^^^^^^\n",
            "  File \"c:\\MyDocs\\AppProjects\\DSNL2SQL\\dstoolkit-text2sql-and-imageprocessing\\.venv\\Lib\\site-packages\\autogen_ext\\models\\openai\\_openai_client.py\", line 534, in create\n",
            "    result: Union[ParsedChatCompletion[BaseModel], ChatCompletion] = await future\n",
            "                                                                     ^^^^^^^^^^^^\n",
            "  File \"c:\\MyDocs\\AppProjects\\DSNL2SQL\\dstoolkit-text2sql-and-imageprocessing\\.venv\\Lib\\site-packages\\openai\\resources\\beta\\chat\\completions.py\", line 436, in parse\n",
            "    return await self._post(\n",
            "           ^^^^^^^^^^^^^^^^^\n",
            "  File \"c:\\MyDocs\\AppProjects\\DSNL2SQL\\dstoolkit-text2sql-and-imageprocessing\\.venv\\Lib\\site-packages\\openai\\_base_client.py\", line 1856, in post\n",
            "    return await self.request(cast_to, opts, stream=stream, stream_cls=stream_cls)\n",
            "           ^^^^^^^^^^^^^^^^^^^^^^^^^^^^^^^^^^^^^^^^^^^^^^^^^^^^^^^^^^^^^^^^^^^^^^^\n",
            "  File \"c:\\MyDocs\\AppProjects\\DSNL2SQL\\dstoolkit-text2sql-and-imageprocessing\\.venv\\Lib\\site-packages\\openai\\_base_client.py\", line 1550, in request\n",
            "    return await self._request(\n",
            "           ^^^^^^^^^^^^^^^^^^^^\n",
            "  File \"c:\\MyDocs\\AppProjects\\DSNL2SQL\\dstoolkit-text2sql-and-imageprocessing\\.venv\\Lib\\site-packages\\openai\\_base_client.py\", line 1651, in _request\n",
            "    raise self._make_status_error_from_response(err.response) from None\n",
            "openai.NotFoundError: Error code: 404 - {'error': {'code': '404', 'message': 'Resource not found'}}\n",
            "INFO:autogen_core.events:{\"payload\": \"{}\", \"handling_agent\": \"user_message_rewrite_agent/8c6a6019-aa6b-4a89-bc30-1faf796809d8\", \"exception\": \"Error code: 404 - {'error': {'code': '404', 'message': 'Resource not found'}}\", \"type\": \"MessageHandlerException\"}\n",
            "INFO:root:TaskResult: TaskResult(messages=[TextMessage(source='user', models_usage=None, content='{\"message\": \"how many products are in the catalog?\", \"injected_parameters\": {\"date\": \"16/10/2025\", \"time\": \"05:53:01\", \"datetime\": \"16/10/2025, 05:53:01\", \"unix_timestamp\": 1760593981}}', type='TextMessage')], stop_reason=None)\n"
          ]
        }
      ],
      "source": [
        "async for message in agentic_text_2_sql.process_user_message(thread_id=\"1\", message_payload=UserMessagePayload(user_message=\"how many products are in the catalog?\")):\n",
        "    logging.info(\"Received %s Message from Text2SQL System\", message)"
      ]
    },
    {
      "cell_type": "code",
      "execution_count": null,
      "metadata": {},
      "outputs": [],
      "source": []
    }
  ],
  "metadata": {
    "kernelspec": {
      "display_name": "dstoolkit-text2sql-and-imageprocessing",
      "language": "python",
      "name": "python3"
    },
    "language_info": {
      "codemirror_mode": {
        "name": "ipython",
        "version": 3
      },
      "file_extension": ".py",
      "mimetype": "text/x-python",
      "name": "python",
      "nbconvert_exporter": "python",
      "pygments_lexer": "ipython3",
      "version": "3.11.9"
    }
  },
  "nbformat": 4,
  "nbformat_minor": 2
}
